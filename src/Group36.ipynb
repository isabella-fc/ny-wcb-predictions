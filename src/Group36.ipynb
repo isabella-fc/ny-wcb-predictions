{
 "cells": [
  {
   "cell_type": "markdown",
   "metadata": {},
   "source": [
    "<a id = \"toc\"></a>\n",
    "\n",
    "# Table of Content\n",
    "\n",
    "* [1. Import the Libraries and Dataset](#import_libsAndData)\n",
    "* [2. Exploratory Data Analysis](#eda)\n",
    "* [3. Data Pre-Processing](#data_preprocessing)\n",
    "    * [3.1 Numerical Features](#numerical_features)\n",
    "    * [3.2 Categorical Features](#categorical_features)\n",
    "* [4. Feature Selection](#feature_selection)\n",
    "* [5. Model Training](#model_training)\n",
    "* [6. Performance Assesment](#performance_assesment)\n",
    "\n",
    "\n",
    "\n"
   ]
  },
  {
   "cell_type": "markdown",
   "metadata": {},
   "source": [
    "# 1. Import the Libraries and Dataset <a class=\"anchor\" id=\"import_libsAndData\"></a>"
   ]
  },
  {
   "cell_type": "code",
   "execution_count": 3,
   "metadata": {},
   "outputs": [],
   "source": [
    "import pandas as pd\n",
    "import numpy as np\n",
    "import seaborn as sns\n",
    "import matplotlib.pyplot as plt\n",
    "from math import ceil\n",
    "from ydata_profiling import ProfileReport"
   ]
  },
  {
   "cell_type": "code",
   "execution_count": 4,
   "metadata": {},
   "outputs": [],
   "source": [
    "pd.set_option('display.max_columns', 500)\n",
    "pd.set_option('display.max_rows', 500)"
   ]
  },
  {
   "cell_type": "code",
   "execution_count": 5,
   "metadata": {},
   "outputs": [
    {
     "ename": "FileNotFoundError",
     "evalue": "[Errno 2] No such file or directory: '../Data/train_data.csv'",
     "output_type": "error",
     "traceback": [
      "\u001b[0;31m---------------------------------------------------------------------------\u001b[0m",
      "\u001b[0;31mFileNotFoundError\u001b[0m                         Traceback (most recent call last)",
      "Cell \u001b[0;32mIn[5], line 1\u001b[0m\n\u001b[0;32m----> 1\u001b[0m train_data \u001b[38;5;241m=\u001b[39m pd\u001b[38;5;241m.\u001b[39mread_csv(\u001b[38;5;124m'\u001b[39m\u001b[38;5;124m../Data/train_data.csv\u001b[39m\u001b[38;5;124m'\u001b[39m, index_col\u001b[38;5;241m=\u001b[39m\u001b[38;5;124m'\u001b[39m\u001b[38;5;124mClaim Identifier\u001b[39m\u001b[38;5;124m'\u001b[39m)\n",
      "File \u001b[0;32m/opt/anaconda3/lib/python3.12/site-packages/pandas/io/parsers/readers.py:1026\u001b[0m, in \u001b[0;36mread_csv\u001b[0;34m(filepath_or_buffer, sep, delimiter, header, names, index_col, usecols, dtype, engine, converters, true_values, false_values, skipinitialspace, skiprows, skipfooter, nrows, na_values, keep_default_na, na_filter, verbose, skip_blank_lines, parse_dates, infer_datetime_format, keep_date_col, date_parser, date_format, dayfirst, cache_dates, iterator, chunksize, compression, thousands, decimal, lineterminator, quotechar, quoting, doublequote, escapechar, comment, encoding, encoding_errors, dialect, on_bad_lines, delim_whitespace, low_memory, memory_map, float_precision, storage_options, dtype_backend)\u001b[0m\n\u001b[1;32m   1013\u001b[0m kwds_defaults \u001b[38;5;241m=\u001b[39m _refine_defaults_read(\n\u001b[1;32m   1014\u001b[0m     dialect,\n\u001b[1;32m   1015\u001b[0m     delimiter,\n\u001b[0;32m   (...)\u001b[0m\n\u001b[1;32m   1022\u001b[0m     dtype_backend\u001b[38;5;241m=\u001b[39mdtype_backend,\n\u001b[1;32m   1023\u001b[0m )\n\u001b[1;32m   1024\u001b[0m kwds\u001b[38;5;241m.\u001b[39mupdate(kwds_defaults)\n\u001b[0;32m-> 1026\u001b[0m \u001b[38;5;28;01mreturn\u001b[39;00m _read(filepath_or_buffer, kwds)\n",
      "File \u001b[0;32m/opt/anaconda3/lib/python3.12/site-packages/pandas/io/parsers/readers.py:620\u001b[0m, in \u001b[0;36m_read\u001b[0;34m(filepath_or_buffer, kwds)\u001b[0m\n\u001b[1;32m    617\u001b[0m _validate_names(kwds\u001b[38;5;241m.\u001b[39mget(\u001b[38;5;124m\"\u001b[39m\u001b[38;5;124mnames\u001b[39m\u001b[38;5;124m\"\u001b[39m, \u001b[38;5;28;01mNone\u001b[39;00m))\n\u001b[1;32m    619\u001b[0m \u001b[38;5;66;03m# Create the parser.\u001b[39;00m\n\u001b[0;32m--> 620\u001b[0m parser \u001b[38;5;241m=\u001b[39m TextFileReader(filepath_or_buffer, \u001b[38;5;241m*\u001b[39m\u001b[38;5;241m*\u001b[39mkwds)\n\u001b[1;32m    622\u001b[0m \u001b[38;5;28;01mif\u001b[39;00m chunksize \u001b[38;5;129;01mor\u001b[39;00m iterator:\n\u001b[1;32m    623\u001b[0m     \u001b[38;5;28;01mreturn\u001b[39;00m parser\n",
      "File \u001b[0;32m/opt/anaconda3/lib/python3.12/site-packages/pandas/io/parsers/readers.py:1620\u001b[0m, in \u001b[0;36mTextFileReader.__init__\u001b[0;34m(self, f, engine, **kwds)\u001b[0m\n\u001b[1;32m   1617\u001b[0m     \u001b[38;5;28mself\u001b[39m\u001b[38;5;241m.\u001b[39moptions[\u001b[38;5;124m\"\u001b[39m\u001b[38;5;124mhas_index_names\u001b[39m\u001b[38;5;124m\"\u001b[39m] \u001b[38;5;241m=\u001b[39m kwds[\u001b[38;5;124m\"\u001b[39m\u001b[38;5;124mhas_index_names\u001b[39m\u001b[38;5;124m\"\u001b[39m]\n\u001b[1;32m   1619\u001b[0m \u001b[38;5;28mself\u001b[39m\u001b[38;5;241m.\u001b[39mhandles: IOHandles \u001b[38;5;241m|\u001b[39m \u001b[38;5;28;01mNone\u001b[39;00m \u001b[38;5;241m=\u001b[39m \u001b[38;5;28;01mNone\u001b[39;00m\n\u001b[0;32m-> 1620\u001b[0m \u001b[38;5;28mself\u001b[39m\u001b[38;5;241m.\u001b[39m_engine \u001b[38;5;241m=\u001b[39m \u001b[38;5;28mself\u001b[39m\u001b[38;5;241m.\u001b[39m_make_engine(f, \u001b[38;5;28mself\u001b[39m\u001b[38;5;241m.\u001b[39mengine)\n",
      "File \u001b[0;32m/opt/anaconda3/lib/python3.12/site-packages/pandas/io/parsers/readers.py:1880\u001b[0m, in \u001b[0;36mTextFileReader._make_engine\u001b[0;34m(self, f, engine)\u001b[0m\n\u001b[1;32m   1878\u001b[0m     \u001b[38;5;28;01mif\u001b[39;00m \u001b[38;5;124m\"\u001b[39m\u001b[38;5;124mb\u001b[39m\u001b[38;5;124m\"\u001b[39m \u001b[38;5;129;01mnot\u001b[39;00m \u001b[38;5;129;01min\u001b[39;00m mode:\n\u001b[1;32m   1879\u001b[0m         mode \u001b[38;5;241m+\u001b[39m\u001b[38;5;241m=\u001b[39m \u001b[38;5;124m\"\u001b[39m\u001b[38;5;124mb\u001b[39m\u001b[38;5;124m\"\u001b[39m\n\u001b[0;32m-> 1880\u001b[0m \u001b[38;5;28mself\u001b[39m\u001b[38;5;241m.\u001b[39mhandles \u001b[38;5;241m=\u001b[39m get_handle(\n\u001b[1;32m   1881\u001b[0m     f,\n\u001b[1;32m   1882\u001b[0m     mode,\n\u001b[1;32m   1883\u001b[0m     encoding\u001b[38;5;241m=\u001b[39m\u001b[38;5;28mself\u001b[39m\u001b[38;5;241m.\u001b[39moptions\u001b[38;5;241m.\u001b[39mget(\u001b[38;5;124m\"\u001b[39m\u001b[38;5;124mencoding\u001b[39m\u001b[38;5;124m\"\u001b[39m, \u001b[38;5;28;01mNone\u001b[39;00m),\n\u001b[1;32m   1884\u001b[0m     compression\u001b[38;5;241m=\u001b[39m\u001b[38;5;28mself\u001b[39m\u001b[38;5;241m.\u001b[39moptions\u001b[38;5;241m.\u001b[39mget(\u001b[38;5;124m\"\u001b[39m\u001b[38;5;124mcompression\u001b[39m\u001b[38;5;124m\"\u001b[39m, \u001b[38;5;28;01mNone\u001b[39;00m),\n\u001b[1;32m   1885\u001b[0m     memory_map\u001b[38;5;241m=\u001b[39m\u001b[38;5;28mself\u001b[39m\u001b[38;5;241m.\u001b[39moptions\u001b[38;5;241m.\u001b[39mget(\u001b[38;5;124m\"\u001b[39m\u001b[38;5;124mmemory_map\u001b[39m\u001b[38;5;124m\"\u001b[39m, \u001b[38;5;28;01mFalse\u001b[39;00m),\n\u001b[1;32m   1886\u001b[0m     is_text\u001b[38;5;241m=\u001b[39mis_text,\n\u001b[1;32m   1887\u001b[0m     errors\u001b[38;5;241m=\u001b[39m\u001b[38;5;28mself\u001b[39m\u001b[38;5;241m.\u001b[39moptions\u001b[38;5;241m.\u001b[39mget(\u001b[38;5;124m\"\u001b[39m\u001b[38;5;124mencoding_errors\u001b[39m\u001b[38;5;124m\"\u001b[39m, \u001b[38;5;124m\"\u001b[39m\u001b[38;5;124mstrict\u001b[39m\u001b[38;5;124m\"\u001b[39m),\n\u001b[1;32m   1888\u001b[0m     storage_options\u001b[38;5;241m=\u001b[39m\u001b[38;5;28mself\u001b[39m\u001b[38;5;241m.\u001b[39moptions\u001b[38;5;241m.\u001b[39mget(\u001b[38;5;124m\"\u001b[39m\u001b[38;5;124mstorage_options\u001b[39m\u001b[38;5;124m\"\u001b[39m, \u001b[38;5;28;01mNone\u001b[39;00m),\n\u001b[1;32m   1889\u001b[0m )\n\u001b[1;32m   1890\u001b[0m \u001b[38;5;28;01massert\u001b[39;00m \u001b[38;5;28mself\u001b[39m\u001b[38;5;241m.\u001b[39mhandles \u001b[38;5;129;01mis\u001b[39;00m \u001b[38;5;129;01mnot\u001b[39;00m \u001b[38;5;28;01mNone\u001b[39;00m\n\u001b[1;32m   1891\u001b[0m f \u001b[38;5;241m=\u001b[39m \u001b[38;5;28mself\u001b[39m\u001b[38;5;241m.\u001b[39mhandles\u001b[38;5;241m.\u001b[39mhandle\n",
      "File \u001b[0;32m/opt/anaconda3/lib/python3.12/site-packages/pandas/io/common.py:873\u001b[0m, in \u001b[0;36mget_handle\u001b[0;34m(path_or_buf, mode, encoding, compression, memory_map, is_text, errors, storage_options)\u001b[0m\n\u001b[1;32m    868\u001b[0m \u001b[38;5;28;01melif\u001b[39;00m \u001b[38;5;28misinstance\u001b[39m(handle, \u001b[38;5;28mstr\u001b[39m):\n\u001b[1;32m    869\u001b[0m     \u001b[38;5;66;03m# Check whether the filename is to be opened in binary mode.\u001b[39;00m\n\u001b[1;32m    870\u001b[0m     \u001b[38;5;66;03m# Binary mode does not support 'encoding' and 'newline'.\u001b[39;00m\n\u001b[1;32m    871\u001b[0m     \u001b[38;5;28;01mif\u001b[39;00m ioargs\u001b[38;5;241m.\u001b[39mencoding \u001b[38;5;129;01mand\u001b[39;00m \u001b[38;5;124m\"\u001b[39m\u001b[38;5;124mb\u001b[39m\u001b[38;5;124m\"\u001b[39m \u001b[38;5;129;01mnot\u001b[39;00m \u001b[38;5;129;01min\u001b[39;00m ioargs\u001b[38;5;241m.\u001b[39mmode:\n\u001b[1;32m    872\u001b[0m         \u001b[38;5;66;03m# Encoding\u001b[39;00m\n\u001b[0;32m--> 873\u001b[0m         handle \u001b[38;5;241m=\u001b[39m \u001b[38;5;28mopen\u001b[39m(\n\u001b[1;32m    874\u001b[0m             handle,\n\u001b[1;32m    875\u001b[0m             ioargs\u001b[38;5;241m.\u001b[39mmode,\n\u001b[1;32m    876\u001b[0m             encoding\u001b[38;5;241m=\u001b[39mioargs\u001b[38;5;241m.\u001b[39mencoding,\n\u001b[1;32m    877\u001b[0m             errors\u001b[38;5;241m=\u001b[39merrors,\n\u001b[1;32m    878\u001b[0m             newline\u001b[38;5;241m=\u001b[39m\u001b[38;5;124m\"\u001b[39m\u001b[38;5;124m\"\u001b[39m,\n\u001b[1;32m    879\u001b[0m         )\n\u001b[1;32m    880\u001b[0m     \u001b[38;5;28;01melse\u001b[39;00m:\n\u001b[1;32m    881\u001b[0m         \u001b[38;5;66;03m# Binary mode\u001b[39;00m\n\u001b[1;32m    882\u001b[0m         handle \u001b[38;5;241m=\u001b[39m \u001b[38;5;28mopen\u001b[39m(handle, ioargs\u001b[38;5;241m.\u001b[39mmode)\n",
      "\u001b[0;31mFileNotFoundError\u001b[0m: [Errno 2] No such file or directory: '../Data/train_data.csv'"
     ]
    }
   ],
   "source": [
    "train_data = pd.read_csv('../Data/train_data.csv', index_col='Claim Identifier')\n"
   ]
  },
  {
   "cell_type": "code",
   "execution_count": null,
   "metadata": {},
   "outputs": [],
   "source": [
    "train_data.tail()"
   ]
  },
  {
   "cell_type": "code",
   "execution_count": null,
   "metadata": {},
   "outputs": [],
   "source": [
    "train_data.shape\n"
   ]
  },
  {
   "cell_type": "markdown",
   "metadata": {},
   "source": [
    "Surprise we have a whole fucking lot of features with Dtype object"
   ]
  },
  {
   "cell_type": "code",
   "execution_count": null,
   "metadata": {},
   "outputs": [],
   "source": [
    "train_data.info()"
   ]
  },
  {
   "cell_type": "code",
   "execution_count": null,
   "metadata": {},
   "outputs": [],
   "source": [
    "train_data.describe(include='all')"
   ]
  },
  {
   "cell_type": "markdown",
   "metadata": {},
   "source": [
    "We have duplicate values that need to be removed"
   ]
  },
  {
   "cell_type": "code",
   "execution_count": null,
   "metadata": {},
   "outputs": [],
   "source": [
    "#duplicated values\n",
    "train_data.duplicated().sum()"
   ]
  },
  {
   "cell_type": "markdown",
   "metadata": {},
   "source": [
    "Since this all the claims have _`Assembly Date`_ we can assume that in order to have a claim you always have a _`Claim Identifier`_ (that we use as index) and an _`Assembly Date`_. So let's check the rows that only have _`Assembly Date`_ filled, i.e, empty rows."
   ]
  },
  {
   "cell_type": "code",
   "execution_count": null,
   "metadata": {},
   "outputs": [],
   "source": [
    "\n",
    "only_assembly_date = train_data.drop(columns=['Assembly Date']).isnull().all(axis=1) & train_data['Assembly Date'].notnull()\n",
    "\n",
    "\n",
    "num_only_assembly_date_filled = only_assembly_date.sum()\n",
    "print(f\"Number of rows with only 'Assembly Date' filled: {num_only_assembly_date_filled}\")"
   ]
  },
  {
   "cell_type": "markdown",
   "metadata": {},
   "source": [
    "---"
   ]
  },
  {
   "cell_type": "markdown",
   "metadata": {},
   "source": [
    "\n",
    "\n",
    "## Percentage of missing values per feature\n"
   ]
  },
  {
   "cell_type": "code",
   "execution_count": null,
   "metadata": {},
   "outputs": [],
   "source": [
    "train_data.isnull().sum()/train_data.shape[0]*100"
   ]
  },
  {
   "cell_type": "code",
   "execution_count": null,
   "metadata": {},
   "outputs": [],
   "source": [
    "train_data.describe(include='O')\n",
    "  "
   ]
  },
  {
   "cell_type": "markdown",
   "metadata": {},
   "source": [
    "### Observations\n",
    "\n",
    "#### Missing Values ####\n",
    "OIICS Nature of Injury Description has no values\n",
    "\n",
    "_`IME-4 Count`_, _`First Hearing Date`_ and _`C-3 Date`_ have >50% of entries missing ( 77.6%, 74.5 and 68.4%, respectively)\n",
    "\n",
    "#### Single Value Feature ####\n",
    "The feature _`WCB Decision`_ only has one value along the whole dataset (excluding missing values of course)\n",
    "\n",
    "#### Categorical features that could be represented as boolean ####\n",
    "Some categorical variables that only present 2 unique values, usually '1s and 0s' or 'Y or N' could be changed to boolean. Since we are not doing data pre-processing yet, these changes would have to preserve any NaN data. The variables are:\n",
    "- Agreement Reached (0s and 1s)\n",
    "- Attorney/Representative (Y or N)\n",
    "- COVID-19 Indicator (Y or N)\n",
    "\n",
    "---"
   ]
  },
  {
   "cell_type": "markdown",
   "metadata": {},
   "source": []
  },
  {
   "cell_type": "markdown",
   "metadata": {},
   "source": [
    "# Type conversion\n",
    "Here we are converting categorical variables that could be represented as boolean, meaning they only have two unique values, while still perserving the NaN entries present in the dataset."
   ]
  },
  {
   "cell_type": "code",
   "execution_count": 102,
   "metadata": {},
   "outputs": [],
   "source": [
    "#function to transform Y and N into boolean while preserving the NaNs\n",
    "def transform_strings_in_bool(train_data, col_names):\n",
    "    for col_name in col_names:\n",
    "        train_data[col_name] = train_data[col_name].map({'Y': True, 'N': False, np.nan: np.nan})\n",
    "    return train_data"
   ]
  },
  {
   "cell_type": "code",
   "execution_count": 103,
   "metadata": {},
   "outputs": [],
   "source": [
    "# Agreement Reached only has values of  0s and 1s so lets convert it to boolean\n",
    "train_data['Agreement Reached'] = train_data['Agreement Reached'].astype(\"boolean\")\n"
   ]
  },
  {
   "cell_type": "code",
   "execution_count": null,
   "metadata": {},
   "outputs": [],
   "source": [
    "\n",
    "train_data = transform_strings_in_bool(train_data, ['Attorney/Representative','COVID-19 Indicator'])\n",
    "print(train_data['Attorney/Representative'].unique(), train_data['COVID-19 Indicator'].unique())\n"
   ]
  },
  {
   "cell_type": "markdown",
   "metadata": {},
   "source": [
    "---"
   ]
  },
  {
   "cell_type": "markdown",
   "metadata": {},
   "source": [
    "# Visual Exploration"
   ]
  },
  {
   "cell_type": "markdown",
   "metadata": {},
   "source": [
    "## Numerical Features - univariate analysis"
   ]
  },
  {
   "cell_type": "code",
   "execution_count": null,
   "metadata": {},
   "outputs": [],
   "source": [
    "# numerical features only\n",
    "num_feat = list(train_data.select_dtypes(include='number').columns)\n",
    "print(num_feat)\n",
    "\n",
    "# remove categorical variable with code\n",
    "num_feat = [col for col in num_feat if 'Code' not in col]\n",
    "num_feat = [col for col in num_feat if 'Description' not in col]\n",
    "num_feat\n"
   ]
  },
  {
   "cell_type": "markdown",
   "metadata": {},
   "source": [
    "### Age at Injury"
   ]
  },
  {
   "cell_type": "code",
   "execution_count": null,
   "metadata": {},
   "outputs": [],
   "source": [
    "#14 is the minimum age to work in New York\n",
    "sns.histplot(train_data[train_data['Age at Injury'] > 13]['Age at Injury'],)\n",
    "plt.show()\n",
    "\n",
    "sns.boxplot(train_data[train_data['Age at Injury'] > 13]['Age at Injury'])"
   ]
  },
  {
   "cell_type": "markdown",
   "metadata": {},
   "source": [
    "### Average Weekly Wage"
   ]
  },
  {
   "cell_type": "markdown",
   "metadata": {},
   "source": [
    "We can see that this feature has a lot of outliers that need to be treated further in the project"
   ]
  },
  {
   "cell_type": "code",
   "execution_count": null,
   "metadata": {},
   "outputs": [],
   "source": [
    "sns.histplot(train_data['Average Weekly Wage'], log_scale=True)\n",
    "plt.show()\n",
    "\n",
    "sns.boxplot(train_data['Average Weekly Wage'])"
   ]
  },
  {
   "cell_type": "markdown",
   "metadata": {},
   "source": [
    "### Birth Year"
   ]
  },
  {
   "cell_type": "markdown",
   "metadata": {},
   "source": [
    "Here we can see that _`Birth Year`_ has 25081 entries with the value 0"
   ]
  },
  {
   "cell_type": "code",
   "execution_count": null,
   "metadata": {},
   "outputs": [],
   "source": [
    "sns.histplot(train_data[train_data['Birth Year'] > 0]['Birth Year'],)\n",
    "plt.show()\n",
    "\n",
    "sns.boxplot(train_data[train_data['Birth Year'] > 0]['Birth Year'])"
   ]
  },
  {
   "cell_type": "markdown",
   "metadata": {},
   "source": [
    "Here we can see that the values for Average Weekly Wage seem fine but due to the large amount of zeros, the auto attributed values for the will not work here"
   ]
  },
  {
   "cell_type": "code",
   "execution_count": null,
   "metadata": {},
   "outputs": [],
   "source": [
    "print(train_data['Average Weekly Wage'].describe())"
   ]
  },
  {
   "cell_type": "markdown",
   "metadata": {},
   "source": [
    "### Number of Dependents"
   ]
  },
  {
   "cell_type": "code",
   "execution_count": null,
   "metadata": {},
   "outputs": [],
   "source": [
    "sns.countplot(x='Number of Dependents', data=train_data)\n",
    "plt.xlabel('Number of Dependents')\n",
    "plt.ylabel('Count')\n",
    "plt.title('Distribution of Number of Dependents')\n",
    "plt.show()\n",
    "\n",
    "sns.boxplot(train_data['Number of Dependents'])"
   ]
  },
  {
   "cell_type": "markdown",
   "metadata": {},
   "source": [
    "### IME-4 Count"
   ]
  },
  {
   "cell_type": "code",
   "execution_count": null,
   "metadata": {},
   "outputs": [],
   "source": [
    "'IME-4 Count'\n",
    "\n",
    "sns.countplot(x='IME-4 Count', data=train_data)\n",
    "plt.xlabel('IME-4 Count')\n",
    "plt.ylabel('Count')\n",
    "plt.xticks(rotation=90) \n",
    "plt.title('Distribution of IME-4 Count')\n",
    "plt.show()\n",
    "\n",
    "sns.boxplot(train_data['IME-4 Count'])"
   ]
  },
  {
   "cell_type": "code",
   "execution_count": null,
   "metadata": {},
   "outputs": [],
   "source": [
    "fig = plt.figure(figsize=(10, 8))\n",
    "\n",
    "\n",
    "corr = train_data[num_feat].corr(method=\"pearson\")\n",
    "\n",
    "\n",
    "sns.heatmap(data=corr, annot=True, )\n",
    "\n",
    "\n",
    "plt.show()"
   ]
  },
  {
   "cell_type": "markdown",
   "metadata": {},
   "source": [
    "----"
   ]
  },
  {
   "cell_type": "markdown",
   "metadata": {},
   "source": [
    "## Categorical Features"
   ]
  },
  {
   "cell_type": "code",
   "execution_count": null,
   "metadata": {},
   "outputs": [],
   "source": [
    "# select categorical features\n",
    "train_data_cat = train_data.select_dtypes(include='object').columns.tolist()\n",
    "\n",
    "# add columns that contain 'Code' or 'Description' in their name\n",
    "train_data_cat += [col for col in train_data.columns if 'Code' in col or 'Description' in col]\n",
    "\n",
    "# remove any duplicates (in case a column is already in both categories)\n",
    "train_data_cat = list(set(train_data_cat))\n",
    "\n",
    "train_data_cat"
   ]
  },
  {
   "cell_type": "markdown",
   "metadata": {},
   "source": [
    "### Assembly Date"
   ]
  },
  {
   "cell_type": "code",
   "execution_count": null,
   "metadata": {},
   "outputs": [],
   "source": [
    "train_datac = train_data.copy()\n",
    "train_datac['Assembly Date'] = pd.to_datetime(train_datac['Assembly Date'])  \n",
    "train_datac['year_month'] = train_datac['Assembly Date'].dt.to_period('M')  \n",
    "\n",
    "train_datac['year_month'].value_counts().sort_index().plot(kind='bar', figsize=(10, 6))\n",
    "plt.xlabel('Month-Year')\n",
    "plt.ylabel('Frequency')\n",
    "plt.title('Frequency of Assembly Date by Month-Year')\n",
    "plt.xticks(rotation=45)\n",
    "plt.show()\n"
   ]
  },
  {
   "cell_type": "markdown",
   "metadata": {},
   "source": [
    "### Accident Date"
   ]
  },
  {
   "cell_type": "code",
   "execution_count": null,
   "metadata": {},
   "outputs": [],
   "source": [
    "train_datac = train_data.copy()\n",
    "train_datac['Accident Date'] = pd.to_datetime(train_datac['Accident Date'])  \n",
    "\n",
    "train_datac = train_datac[train_datac['Accident Date'] >= '1961-01-01']\n",
    "\n",
    "train_datac['year'] = train_datac['Accident Date'].dt.year\n",
    "print(train_datac['Accident Date'].min(), train_datac['Accident Date'].max())"
   ]
  },
  {
   "cell_type": "code",
   "execution_count": null,
   "metadata": {},
   "outputs": [],
   "source": [
    "# consider only dates from 1961 onwards (because of the min value on the cell above)\n",
    "train_datac = train_datac[train_datac['Accident Date'] >= '1961-01-01']\n",
    "\n",
    "# create a group for the first 59 year due to the low frequency\n",
    "train_datac['year_group'] = train_datac['year'].apply(lambda x: '1961-2019' if x <= 2019 else str(x))\n",
    "\n",
    "# count the frequency of the accident date by year\n",
    "yearly_grouped_counts = train_datac['year_group'].value_counts().sort_index()\n",
    "\n",
    "# plot the frequency of the accident date by year\n",
    "yearly_grouped_counts.plot(kind='bar', figsize=(10, 6))\n",
    "plt.xlabel('Year/Group')\n",
    "plt.ylabel('Frequency')\n",
    "plt.title('Frequency of Accident Date by Year/Group (1961-2019 grouped)')\n",
    "plt.xticks(rotation=45)\n",
    "plt.show()"
   ]
  },
  {
   "cell_type": "markdown",
   "metadata": {},
   "source": [
    "### C-2 and C-3 Date"
   ]
  },
  {
   "cell_type": "code",
   "execution_count": null,
   "metadata": {},
   "outputs": [],
   "source": [
    "train_datac = train_data.copy()\n",
    "train_datac['C-2 Date'] = pd.to_datetime(train_datac['C-2 Date'])  \n",
    "\n",
    "\n",
    "train_datac['year'] = train_datac['C-2 Date'].dt.year\n",
    "print(train_datac['C-2 Date'].min(), train_datac['C-2 Date'].max())"
   ]
  },
  {
   "cell_type": "code",
   "execution_count": null,
   "metadata": {},
   "outputs": [],
   "source": [
    "# consider only dates from 1996 onwards (because of the min value on the cell above)\n",
    "train_datac = train_datac[train_datac['C-2 Date'] >= '1996-01-1']\n",
    "\n",
    "# create a group for the first 2ish decades due to the low frequency\n",
    "train_datac['year_group'] = train_datac['year'].apply(lambda x: '1996-2019' if x <= 2019 else str(x))\n",
    "\n",
    "# count the frequency of the accident date by year\n",
    "yearly_grouped_counts = train_datac['year_group'].value_counts().sort_index()\n",
    "\n",
    "# plot the frequency of the accident date by year\n",
    "yearly_grouped_counts.plot(kind='bar', figsize=(10, 6))\n",
    "plt.xlabel('Year/Group')\n",
    "plt.ylabel('Frequency')\n",
    "plt.title('Frequency of C-2 Date by Year/Group (1996-2019 grouped)')\n",
    "plt.xticks(rotation=45)\n",
    "plt.show()"
   ]
  },
  {
   "cell_type": "code",
   "execution_count": null,
   "metadata": {},
   "outputs": [],
   "source": [
    "train_datac = train_data.copy()\n",
    "\n",
    "# Convert 'C-2 Date' and 'C-3 Date' to datetime\n",
    "train_datac['C-2 Date'] = pd.to_datetime(train_datac['C-2 Date'])\n",
    "train_datac['C-3 Date'] = pd.to_datetime(train_datac['C-3 Date'])\n",
    "\n",
    "print(train_datac['C-2 Date'].min(), train_datac['C-2 Date'].max())\n",
    "print(train_datac['C-3 Date'].min(), train_datac['C-3 Date'].max())\n",
    "\n"
   ]
  },
  {
   "cell_type": "code",
   "execution_count": null,
   "metadata": {},
   "outputs": [],
   "source": [
    "# consider only dates from 1996 onwards (because of the min value on the cell above) for C-2\n",
    "train_datac_c2 = train_datac[train_datac['C-2 Date'] >= '1996-01-01']\n",
    "train_datac_c2['year_c2'] = train_datac_c2['C-2 Date'].dt.year\n",
    "\n",
    "# consider only dates from 1992 onwards (because of the min value on the cell above) for C-3\n",
    "train_datac_c3 = train_datac[train_datac['C-3 Date'] >= '1992-01-01']\n",
    "train_datac_c3['year_c3'] = train_datac_c3['C-3 Date'].dt.year\n",
    "\n",
    "\n",
    "# group from the min year to 2019 and then by year due to the low frequency\n",
    "train_datac_c2['year_group_c2'] = train_datac_c2['year_c2'].apply(lambda x: '1996-2019' if x <= 2019 else str(x))\n",
    "train_datac_c3['year_group_c3'] = train_datac_c3['year_c3'].apply(lambda x: '1992-2019' if x <= 2019 else str(x))\n",
    "\n",
    "# Calculate the frequency of the accident date by year group\n",
    "yearly_grouped_counts_c2 = train_datac_c2['year_group_c2'].value_counts().sort_index()\n",
    "yearly_grouped_counts_c3 = train_datac_c3['year_group_c3'].value_counts().sort_index()"
   ]
  },
  {
   "cell_type": "code",
   "execution_count": null,
   "metadata": {},
   "outputs": [],
   "source": [
    "# Plot both graphs side by side using subplots\n",
    "fig, axes = plt.subplots(nrows=1, ncols=2, figsize=(14, 6))\n",
    "\n",
    "# plot for C-2 Date\n",
    "yearly_grouped_counts_c2.plot(kind='bar', ax=axes[0], color='blue')\n",
    "axes[0].set_xlabel('Year/Group')\n",
    "axes[0].set_ylabel('Frequency')\n",
    "axes[0].set_title('Frequency of C-2 Date by Year/Group (1996-2019 grouped)')\n",
    "axes[0].tick_params(axis='x', rotation=45)\n",
    "\n",
    "# plot for C-3 Date\n",
    "yearly_grouped_counts_c3.plot(kind='bar', ax=axes[1], color='green')\n",
    "axes[1].set_xlabel('Year/Group')\n",
    "axes[1].set_ylabel('Frequency')\n",
    "axes[1].set_title('Frequency of C-3 Date by Year/Group (1992-2019 grouped)')\n",
    "axes[1].tick_params(axis='x', rotation=45)\n",
    "\n",
    "plt.tight_layout()\n",
    "plt.show()"
   ]
  },
  {
   "cell_type": "markdown",
   "metadata": {},
   "source": [
    "### First Hearing Date"
   ]
  },
  {
   "cell_type": "code",
   "execution_count": null,
   "metadata": {},
   "outputs": [],
   "source": [
    "train_datac = train_data.copy()\n",
    "train_datac['First Hearing Date'] = pd.to_datetime(train_datac['First Hearing Date'])  \n",
    "train_datac['year'] = train_datac['First Hearing Date'].dt.year\n",
    "\n",
    "train_datac['year'].value_counts().sort_index().plot(kind='bar', figsize=(10, 6))\n",
    "plt.xlabel('Year')\n",
    "plt.ylabel('Frequency')\n",
    "plt.title('Frequency of First Hearing Date by Month-Year')\n",
    "plt.xticks(rotation=45)\n",
    "plt.show()"
   ]
  },
  {
   "cell_type": "markdown",
   "metadata": {},
   "source": [
    "### WCB Decision\n",
    "Oh no, this categorical feature only has one value"
   ]
  },
  {
   "cell_type": "code",
   "execution_count": null,
   "metadata": {},
   "outputs": [],
   "source": [
    "wcb_decision_counts = train_data['WCB Decision'].value_counts()\n",
    "\n",
    "plt.figure(figsize=(8, 8))\n",
    "wcb_decision_counts.plot.pie(autopct='%1.1f%%', startangle=90,)\n",
    "plt.ylabel('')\n",
    "plt.title('Distribution of WCB Decision')\n",
    "plt.show()"
   ]
  }
 ],
 "metadata": {
  "kernelspec": {
   "display_name": "base",
   "language": "python",
   "name": "python3"
  },
  "language_info": {
   "codemirror_mode": {
    "name": "ipython",
    "version": 3
   },
   "file_extension": ".py",
   "mimetype": "text/x-python",
   "name": "python",
   "nbconvert_exporter": "python",
   "pygments_lexer": "ipython3",
   "version": "3.12.4"
  }
 },
 "nbformat": 4,
 "nbformat_minor": 2
}
